{
 "cells": [
  {
   "cell_type": "markdown",
   "id": "8ca1cb68",
   "metadata": {},
   "source": [
    "# 📝 Ejercicio 5: Integración de múltiples fuentes y reporte mensual\n",
    "## 🎯 Objetivo\n",
    "\n",
    "Simular un escenario donde recibes datos de ventas y clientes desde distintos archivos (CSV y JSON), y debes:\n",
    "\n",
    "1. Extraer los datos desde múltiples archivos.\n",
    "2. Transformar:\n",
    "    - Limpiar nulos y valores inconsistentes.\n",
    "    - Unir información de clientes y ventas.\n",
    "    - Generar métricas clave: total de ventas, ticket promedio, clientes únicos por mes.\n",
    "    - Crear una tabla pivote de ingresos por categoría y mes.\n",
    "3. Cargar: exportar los resultados a outputs/etl_ejercicio5_reporte.csv.\n",
    "\n",
    "Generado por: ChatGPT 5.0"
   ]
  }
 ],
 "metadata": {
  "language_info": {
   "name": "python"
  }
 },
 "nbformat": 4,
 "nbformat_minor": 5
}
