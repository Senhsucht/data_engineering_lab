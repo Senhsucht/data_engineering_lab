{
 "cells": [
  {
   "cell_type": "markdown",
   "id": "c2f4f204",
   "metadata": {},
   "source": [
    "# Ejercicio 3: Unión de Tablas y Agregación\n",
    "Para nuestro siguiente desafío, uniremos los conceptos que ya dominas: limpieza, transformación y agregación.\n",
    "\n",
    "## Escenario:\n",
    "\n",
    "La gerencia te ha proporcionado un nuevo archivo con información sobre los productos y su categoría. Quieren que combines esta información con tus datos de ventas para obtener un resumen de las ventas por categoría.\n",
    "\n",
    "Archivos de apoyo:\n",
    "- El DataFrame que ya tienes: ventas_limpias.csv.\n",
    "- Un nuevo archivo llamado productos_categorias.csv \n",
    "\n",
    "## Instrucciones:\n",
    "\n",
    "1. Carga los archivos: Carga el ventas_limpias.csv y el nuevo productos_categorias.csv en dos DataFrames separados.\n",
    "2. Une los DataFrames: Realiza un merge o join para combinar las ventas con sus categorías, usando la columna común producto.\n",
    "3. Agrupa y agrega: Agrupa los datos por la columna categoria y calcula el total de ventas (conteo de registros) y el precio total (suma de los precios).\n",
    "4. Guarda el resultado: Guarda el DataFrame resultante en un nuevo archivo llamado ventas_por_categoria.csv."
   ]
  },
  {
   "cell_type": "code",
   "execution_count": 13,
   "id": "43fc2c05",
   "metadata": {},
   "outputs": [],
   "source": [
    "import pandas as pd"
   ]
  },
  {
   "cell_type": "code",
   "execution_count": 14,
   "id": "42244fc4",
   "metadata": {},
   "outputs": [],
   "source": [
    "input_file = '../outputs/ventas_limpias.csv'\n",
    "input_file2 = '../datasets/productos_categorias.csv'\n",
    "output_file = '../outputs/ventas_por_categoria.csv'"
   ]
  },
  {
   "cell_type": "code",
   "execution_count": 15,
   "id": "3f7fbee5",
   "metadata": {},
   "outputs": [
    {
     "data": {
      "text/html": [
       "<div>\n",
       "<style scoped>\n",
       "    .dataframe tbody tr th:only-of-type {\n",
       "        vertical-align: middle;\n",
       "    }\n",
       "\n",
       "    .dataframe tbody tr th {\n",
       "        vertical-align: top;\n",
       "    }\n",
       "\n",
       "    .dataframe thead th {\n",
       "        text-align: right;\n",
       "    }\n",
       "</style>\n",
       "<table border=\"1\" class=\"dataframe\">\n",
       "  <thead>\n",
       "    <tr style=\"text-align: right;\">\n",
       "      <th></th>\n",
       "      <th>producto</th>\n",
       "      <th>categoria</th>\n",
       "    </tr>\n",
       "  </thead>\n",
       "  <tbody>\n",
       "    <tr>\n",
       "      <th>0</th>\n",
       "      <td>Laptop</td>\n",
       "      <td>Electronica</td>\n",
       "    </tr>\n",
       "    <tr>\n",
       "      <th>1</th>\n",
       "      <td>Mouse</td>\n",
       "      <td>Accesorios</td>\n",
       "    </tr>\n",
       "    <tr>\n",
       "      <th>2</th>\n",
       "      <td>Teclado</td>\n",
       "      <td>Accesorios</td>\n",
       "    </tr>\n",
       "    <tr>\n",
       "      <th>3</th>\n",
       "      <td>Monitor</td>\n",
       "      <td>Electronica</td>\n",
       "    </tr>\n",
       "    <tr>\n",
       "      <th>4</th>\n",
       "      <td>Auriculares</td>\n",
       "      <td>Audio</td>\n",
       "    </tr>\n",
       "  </tbody>\n",
       "</table>\n",
       "</div>"
      ],
      "text/plain": [
       "      producto    categoria\n",
       "0       Laptop  Electronica\n",
       "1        Mouse   Accesorios\n",
       "2      Teclado   Accesorios\n",
       "3      Monitor  Electronica\n",
       "4  Auriculares        Audio"
      ]
     },
     "execution_count": 15,
     "metadata": {},
     "output_type": "execute_result"
    }
   ],
   "source": [
    "df = pd.read_csv(input_file)\n",
    "df1 = pd.read_csv(input_file2)\n",
    "df\n",
    "df1 "
   ]
  },
  {
   "cell_type": "code",
   "execution_count": 16,
   "id": "69b7e651",
   "metadata": {},
   "outputs": [
    {
     "data": {
      "text/html": [
       "<div>\n",
       "<style scoped>\n",
       "    .dataframe tbody tr th:only-of-type {\n",
       "        vertical-align: middle;\n",
       "    }\n",
       "\n",
       "    .dataframe tbody tr th {\n",
       "        vertical-align: top;\n",
       "    }\n",
       "\n",
       "    .dataframe thead th {\n",
       "        text-align: right;\n",
       "    }\n",
       "</style>\n",
       "<table border=\"1\" class=\"dataframe\">\n",
       "  <thead>\n",
       "    <tr style=\"text-align: right;\">\n",
       "      <th></th>\n",
       "      <th>id_venta</th>\n",
       "      <th>producto</th>\n",
       "      <th>precio</th>\n",
       "      <th>fecha</th>\n",
       "      <th>categoria</th>\n",
       "    </tr>\n",
       "  </thead>\n",
       "  <tbody>\n",
       "    <tr>\n",
       "      <th>0</th>\n",
       "      <td>1</td>\n",
       "      <td>Laptop</td>\n",
       "      <td>1200.000000</td>\n",
       "      <td>2023-01-15</td>\n",
       "      <td>Electronica</td>\n",
       "    </tr>\n",
       "    <tr>\n",
       "      <th>1</th>\n",
       "      <td>2</td>\n",
       "      <td>Mouse</td>\n",
       "      <td>25.000000</td>\n",
       "      <td>2023-01-16</td>\n",
       "      <td>Accesorios</td>\n",
       "    </tr>\n",
       "    <tr>\n",
       "      <th>2</th>\n",
       "      <td>3</td>\n",
       "      <td>Teclado</td>\n",
       "      <td>75.000000</td>\n",
       "      <td>2023-01-17</td>\n",
       "      <td>Accesorios</td>\n",
       "    </tr>\n",
       "    <tr>\n",
       "      <th>3</th>\n",
       "      <td>4</td>\n",
       "      <td>Laptop</td>\n",
       "      <td>275.833333</td>\n",
       "      <td>2023-01-18</td>\n",
       "      <td>Electronica</td>\n",
       "    </tr>\n",
       "    <tr>\n",
       "      <th>4</th>\n",
       "      <td>5</td>\n",
       "      <td>Monitor</td>\n",
       "      <td>250.000000</td>\n",
       "      <td>2023-01-19</td>\n",
       "      <td>Electronica</td>\n",
       "    </tr>\n",
       "    <tr>\n",
       "      <th>5</th>\n",
       "      <td>6</td>\n",
       "      <td>Mouse</td>\n",
       "      <td>25.000000</td>\n",
       "      <td>2023-01-16</td>\n",
       "      <td>Accesorios</td>\n",
       "    </tr>\n",
       "    <tr>\n",
       "      <th>6</th>\n",
       "      <td>7</td>\n",
       "      <td>Auriculares</td>\n",
       "      <td>80.000000</td>\n",
       "      <td>2023-01-20</td>\n",
       "      <td>Audio</td>\n",
       "    </tr>\n",
       "  </tbody>\n",
       "</table>\n",
       "</div>"
      ],
      "text/plain": [
       "   id_venta     producto       precio       fecha    categoria\n",
       "0         1       Laptop  1200.000000  2023-01-15  Electronica\n",
       "1         2        Mouse    25.000000  2023-01-16   Accesorios\n",
       "2         3      Teclado    75.000000  2023-01-17   Accesorios\n",
       "3         4       Laptop   275.833333  2023-01-18  Electronica\n",
       "4         5      Monitor   250.000000  2023-01-19  Electronica\n",
       "5         6        Mouse    25.000000  2023-01-16   Accesorios\n",
       "6         7  Auriculares    80.000000  2023-01-20        Audio"
      ]
     },
     "execution_count": 16,
     "metadata": {},
     "output_type": "execute_result"
    }
   ],
   "source": [
    "# Puede realizarse con join o merge, ambos son equivalentes en este caso.\n",
    "# Ej. con join: df_merged = df.join(df1.set_index('producto'), on='producto', how='left')\n",
    "df_merged = pd.merge(df, df1, on = 'producto', how = 'left')\n",
    "df_merged"
   ]
  },
  {
   "cell_type": "code",
   "execution_count": 17,
   "id": "24e37212",
   "metadata": {},
   "outputs": [
    {
     "data": {
      "text/html": [
       "<div>\n",
       "<style scoped>\n",
       "    .dataframe tbody tr th:only-of-type {\n",
       "        vertical-align: middle;\n",
       "    }\n",
       "\n",
       "    .dataframe tbody tr th {\n",
       "        vertical-align: top;\n",
       "    }\n",
       "\n",
       "    .dataframe thead th {\n",
       "        text-align: right;\n",
       "    }\n",
       "</style>\n",
       "<table border=\"1\" class=\"dataframe\">\n",
       "  <thead>\n",
       "    <tr style=\"text-align: right;\">\n",
       "      <th></th>\n",
       "      <th>categoria</th>\n",
       "      <th>total_ventas</th>\n",
       "      <th>total_precios</th>\n",
       "    </tr>\n",
       "  </thead>\n",
       "  <tbody>\n",
       "    <tr>\n",
       "      <th>0</th>\n",
       "      <td>Accesorios</td>\n",
       "      <td>3</td>\n",
       "      <td>125.000000</td>\n",
       "    </tr>\n",
       "    <tr>\n",
       "      <th>1</th>\n",
       "      <td>Audio</td>\n",
       "      <td>1</td>\n",
       "      <td>80.000000</td>\n",
       "    </tr>\n",
       "    <tr>\n",
       "      <th>2</th>\n",
       "      <td>Electronica</td>\n",
       "      <td>3</td>\n",
       "      <td>1725.833333</td>\n",
       "    </tr>\n",
       "  </tbody>\n",
       "</table>\n",
       "</div>"
      ],
      "text/plain": [
       "     categoria  total_ventas  total_precios\n",
       "0   Accesorios             3     125.000000\n",
       "1        Audio             1      80.000000\n",
       "2  Electronica             3    1725.833333"
      ]
     },
     "execution_count": 17,
     "metadata": {},
     "output_type": "execute_result"
    }
   ],
   "source": [
    "df_merged = df_merged.groupby(['categoria']).agg(\n",
    "    total_ventas=('producto', 'count'),\n",
    "    total_precios=('precio', 'sum')\n",
    ").reset_index()\n",
    "df_merged"
   ]
  },
  {
   "cell_type": "code",
   "execution_count": 18,
   "id": "bf3214e6",
   "metadata": {},
   "outputs": [],
   "source": [
    "df_merged.to_csv(output_file, index=False)"
   ]
  }
 ],
 "metadata": {
  "kernelspec": {
   "display_name": "base",
   "language": "python",
   "name": "python3"
  },
  "language_info": {
   "codemirror_mode": {
    "name": "ipython",
    "version": 3
   },
   "file_extension": ".py",
   "mimetype": "text/x-python",
   "name": "python",
   "nbconvert_exporter": "python",
   "pygments_lexer": "ipython3",
   "version": "3.13.5"
  }
 },
 "nbformat": 4,
 "nbformat_minor": 5
}
