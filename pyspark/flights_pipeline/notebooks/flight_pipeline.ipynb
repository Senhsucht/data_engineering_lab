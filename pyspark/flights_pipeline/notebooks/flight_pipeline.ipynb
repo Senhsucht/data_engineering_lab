{
  "cells": [
    {
      "cell_type": "markdown",
      "id": "5e0f86c4",
      "metadata": {
        "id": "5e0f86c4"
      },
      "source": [
        "# Ejercicio: Pipeline de Datos de Vuelos\n",
        "\n",
        "Caso: Una aerolínea quiere analizar sus retrasos y puntualidad. Necesita un flujo que tome datos crudos de vuelos, los limpie, los transforme y los cargue en un formato optimizado para análisis.\n",
        "\n",
        "## Objetivo\n",
        "\n",
        "Construir un pipeline ETL en PySpark que:\n",
        "\n",
        "1. Extraiga datos desde CSV/Parquet.\n",
        "2. Transforme:\n",
        "    - Limpie nulos.\n",
        "    - Calcule si el vuelo fue puntual o retrasado (on_time = 1 si arrival_delay <= 15, else 0).\n",
        "    - Agregue métricas por aerolínea y origen.\n",
        "3. Cargue resultados en formato Parquet particionado por date.\n",
        "\n",
        "Generado por: ChatGPT 5.0"
      ]
    },
    {
      "cell_type": "code",
      "execution_count": null,
      "id": "6e8fadca",
      "metadata": {
        "id": "6e8fadca"
      },
      "outputs": [],
      "source": [
        "# Importacion de librerias\n",
        "from pyspark.sql import SparkSession\n",
        "from pyspark.sql.functions import col, lit, when"
      ]
    },
    {
      "cell_type": "code",
      "execution_count": 31,
      "id": "66eb041f",
      "metadata": {
        "id": "66eb041f"
      },
      "outputs": [],
      "source": [
        "# Definicion de rutas\n",
        "dataset_jan = \"../data/Jan_2020_ontime.csv\"\n",
        "dataset_feb = \"../data/Feb_2020_ontime.csv\"\n",
        "dataset_mar = \"../data/March_2020_ontime.csv\"\n",
        "output_path = \"../output/flights.parquet\""
      ]
    },
    {
      "cell_type": "code",
      "execution_count": 32,
      "id": "693118ef",
      "metadata": {
        "id": "693118ef"
      },
      "outputs": [],
      "source": [
        "# Inicializacion de Spark\n",
        "spark = (\n",
        "\tSparkSession.builder\n",
        "\t.appName(\"FlightPipeline\")\n",
        "\t.getOrCreate()\n",
        ")"
      ]
    },
    {
      "cell_type": "code",
      "execution_count": 33,
      "id": "3f44c3a5",
      "metadata": {
        "id": "3f44c3a5"
      },
      "outputs": [],
      "source": [
        "# Importacion de datos fuente\n",
        "df_jan = spark.read.csv(dataset_jan, header=True, inferSchema=True)\n",
        "df_feb = spark.read.csv(dataset_feb, header=True, inferSchema=True)\n",
        "df_mar = spark.read.csv(dataset_mar, header=True, inferSchema=True)"
      ]
    },
    {
      "cell_type": "code",
      "execution_count": 34,
      "id": "101c20a1",
      "metadata": {
        "colab": {
          "base_uri": "https://localhost:8080/"
        },
        "id": "101c20a1",
        "outputId": "b8e7fdbf-a7b3-4d86-c8f9-45b5ecbfc454"
      },
      "outputs": [
        {
          "name": "stdout",
          "output_type": "stream",
          "text": [
            "+------------+-----------+-----------------+---------------------+----------+--------+-----------------+-----------------+---------------------+------+---------------+-------------------+----+--------+---------+------------+--------+---------+---------+--------+--------+----+\n",
            "|DAY_OF_MONTH|DAY_OF_WEEK|OP_UNIQUE_CARRIER|OP_CARRIER_AIRLINE_ID|OP_CARRIER|TAIL_NUM|OP_CARRIER_FL_NUM|ORIGIN_AIRPORT_ID|ORIGIN_AIRPORT_SEQ_ID|ORIGIN|DEST_AIRPORT_ID|DEST_AIRPORT_SEQ_ID|DEST|DEP_TIME|DEP_DEL15|DEP_TIME_BLK|ARR_TIME|ARR_DEL15|CANCELLED|DIVERTED|DISTANCE|_c21|\n",
            "+------------+-----------+-----------------+---------------------+----------+--------+-----------------+-----------------+---------------------+------+---------------+-------------------+----+--------+---------+------------+--------+---------+---------+--------+--------+----+\n",
            "|           1|          3|               EV|                20366|        EV|  N48901|             4397|            13930|              1393007|   ORD|          11977|            1197705| GRB|    1003|      0.0|   1000-1059|    1117|      0.0|      0.0|     0.0|   174.0|NULL|\n",
            "|           1|          3|               EV|                20366|        EV|  N16976|             4401|            15370|              1537002|   TUL|          13930|            1393007| ORD|    1027|      0.0|   1000-1059|    1216|      0.0|      0.0|     0.0|   585.0|NULL|\n",
            "|           1|          3|               EV|                20366|        EV|  N12167|             4404|            11618|              1161802|   EWR|          15412|            1541205| TYS|    1848|      0.0|   1800-1859|    2120|      0.0|      0.0|     0.0|   631.0|NULL|\n",
            "|           1|          3|               EV|                20366|        EV|  N14902|             4405|            10781|              1078105|   BTR|          12266|            1226603| IAH|    1846|      0.0|   1800-1859|    2004|      0.0|      0.0|     0.0|   253.0|NULL|\n",
            "|           1|          3|               EV|                20366|        EV|  N606UX|             4407|            14524|              1452401|   RIC|          12266|            1226603| IAH|    1038|      0.0|   1000-1059|    1330|      0.0|      0.0|     0.0|  1157.0|NULL|\n",
            "+------------+-----------+-----------------+---------------------+----------+--------+-----------------+-----------------+---------------------+------+---------------+-------------------+----+--------+---------+------------+--------+---------+---------+--------+--------+----+\n",
            "only showing top 5 rows\n",
            "\n"
          ]
        }
      ],
      "source": [
        "# Visualizacion de datos\n",
        "df_jan.show(5)"
      ]
    },
    {
      "cell_type": "code",
      "execution_count": 35,
      "id": "be5fd9a7",
      "metadata": {
        "colab": {
          "base_uri": "https://localhost:8080/"
        },
        "id": "be5fd9a7",
        "outputId": "0220b317-ed1d-473c-9973-4faf252ce918"
      },
      "outputs": [
        {
          "name": "stdout",
          "output_type": "stream",
          "text": [
            "+------------+-----------+-----------------+---------------------+----------+--------+-----------------+-----------------+---------------------+------+---------------+-------------------+----+--------+---------+------------+--------+---------+---------+--------+--------+----+\n",
            "|DAY_OF_MONTH|DAY_OF_WEEK|OP_UNIQUE_CARRIER|OP_CARRIER_AIRLINE_ID|OP_CARRIER|TAIL_NUM|OP_CARRIER_FL_NUM|ORIGIN_AIRPORT_ID|ORIGIN_AIRPORT_SEQ_ID|ORIGIN|DEST_AIRPORT_ID|DEST_AIRPORT_SEQ_ID|DEST|DEP_TIME|DEP_DEL15|DEP_TIME_BLK|ARR_TIME|ARR_DEL15|CANCELLED|DIVERTED|DISTANCE|_c21|\n",
            "+------------+-----------+-----------------+---------------------+----------+--------+-----------------+-----------------+---------------------+------+---------------+-------------------+----+--------+---------+------------+--------+---------+---------+--------+--------+----+\n",
            "|           1|          3|               EV|                20366|        EV|  N48901|             4397|            13930|              1393007|   ORD|          11977|            1197705| GRB|    1003|      0.0|   1000-1059|    1117|      0.0|      0.0|     0.0|   174.0|NULL|\n",
            "|           1|          3|               EV|                20366|        EV|  N16976|             4401|            15370|              1537002|   TUL|          13930|            1393007| ORD|    1027|      0.0|   1000-1059|    1216|      0.0|      0.0|     0.0|   585.0|NULL|\n",
            "|           1|          3|               EV|                20366|        EV|  N12167|             4404|            11618|              1161802|   EWR|          15412|            1541205| TYS|    1848|      0.0|   1800-1859|    2120|      0.0|      0.0|     0.0|   631.0|NULL|\n",
            "|           1|          3|               EV|                20366|        EV|  N14902|             4405|            10781|              1078105|   BTR|          12266|            1226603| IAH|    1846|      0.0|   1800-1859|    2004|      0.0|      0.0|     0.0|   253.0|NULL|\n",
            "|           1|          3|               EV|                20366|        EV|  N606UX|             4407|            14524|              1452401|   RIC|          12266|            1226603| IAH|    1038|      0.0|   1000-1059|    1330|      0.0|      0.0|     0.0|  1157.0|NULL|\n",
            "+------------+-----------+-----------------+---------------------+----------+--------+-----------------+-----------------+---------------------+------+---------------+-------------------+----+--------+---------+------------+--------+---------+---------+--------+--------+----+\n",
            "only showing top 5 rows\n",
            "\n"
          ]
        }
      ],
      "source": [
        "# Union de los datasets para obtener el dataset del primer trimestre del año 2020\n",
        "df_flights = df_jan.union(df_feb).union(df_mar)\n",
        "df_flights.show(5)"
      ]
    },
    {
      "cell_type": "code",
      "execution_count": 36,
      "id": "9823ccf6",
      "metadata": {
        "id": "9823ccf6"
      },
      "outputs": [],
      "source": [
        "def data_quality_check(df):\n",
        "    # Conteo de registros\n",
        "    record_count = df.count()\n",
        "\n",
        "    # Validacion de nulos\n",
        "    null_counts = df.select(*[sum(when(col(c).isNull(), 1).otherwise(0)).alias(c) for c in df.columns])\n",
        "    expr_string = \"stack({0}, {1}) as (column_name, null)\".format(\n",
        "    len(null_counts.columns),\n",
        "    \", \".join([f\"'{c}', {c}\" for c in null_counts.columns])\n",
        "    )\n",
        "    null_counts = null_counts.selectExpr(expr_string)\n",
        "\n",
        "    # Validacion de vacios\n",
        "    blanks_counts = df.select(*[sum(when(col(c) == '', 1).otherwise(0)).alias(c) for c in df.columns])\n",
        "    expr_string = \"stack({0}, {1}) as (column_name, blacks)\".format(\n",
        "    len(blanks_counts.columns),\n",
        "    \", \".join([f\"'{c}', {c}\" for c in blanks_counts.columns])\n",
        "    )\n",
        "    blanks_counts = blanks_counts.selectExpr(expr_string)\n",
        "\n",
        "    # Validacion de duplicados\n",
        "    if df.count() - df.dropDuplicates().count() == 0:\n",
        "        duplicate_count = \"Sin duplicados\"\n",
        "    else:\n",
        "        duplicate_count =\"Con duplicados\"\n",
        "\n",
        "    # Tipos de datos\n",
        "    data_types = df = spark.createDataFrame(df.dtypes, [\"column_name\", \"data_type\"])\n",
        "\n",
        "    # Resumen de calidad de datos\n",
        "    df_quality = null_counts.join(blanks_counts, on = 'column_name', how = 'left').join(data_types, on = 'column_name', how = 'left')\n",
        "    df_quality = df_quality.withColumnRenamed('column_name', 'columna').withColumn('null_percent', round((col('null')/record_count)*100,2)).withColumn('blanks_percent', round((col('blacks')/record_count)*100,2)).withColumn('duplicados', lit(duplicate_count)).withColumn('record_count', lit(record_count) )\n",
        "\n",
        "    df_quality = df_quality.select('columna','data_type','null','null_percent','blacks','blanks_percent','duplicados','record_count').sort('columna','null')\n",
        "\n",
        "    return df_quality.show(20)"
      ]
    },
    {
      "cell_type": "code",
      "execution_count": 37,
      "id": "1c47a4b0",
      "metadata": {
        "colab": {
          "base_uri": "https://localhost:8080/"
        },
        "id": "1c47a4b0",
        "outputId": "bd01d2ed-4f68-4420-c6ac-c015f3d5f7c6"
      },
      "outputs": [
        {
          "name": "stdout",
          "output_type": "stream",
          "text": [
            "+--------------------+---------+------+------------+------+--------------+--------------+------------+\n",
            "|             columna|data_type|  null|null_percent|blacks|blanks_percent|    duplicados|record_count|\n",
            "+--------------------+---------+------+------------+------+--------------+--------------+------------+\n",
            "|           ARR_DEL15|   double|125259|        6.85|     0|           0.0|Sin duplicados|     1829847|\n",
            "|            ARR_TIME|      int|122723|        6.71|     0|           0.0|Sin duplicados|     1829847|\n",
            "|           CANCELLED|   double|     0|         0.0|     0|           0.0|Sin duplicados|     1829847|\n",
            "|        DAY_OF_MONTH|      int|     0|         0.0|     0|           0.0|Sin duplicados|     1829847|\n",
            "|         DAY_OF_WEEK|      int|     0|         0.0|     0|           0.0|Sin duplicados|     1829847|\n",
            "|           DEP_DEL15|   double|121610|        6.65|     0|           0.0|Sin duplicados|     1829847|\n",
            "|            DEP_TIME|      int|121560|        6.64|     0|           0.0|Sin duplicados|     1829847|\n",
            "|        DEP_TIME_BLK|   string|     0|         0.0|     0|           0.0|Sin duplicados|     1829847|\n",
            "|                DEST|   string|     0|         0.0|     0|           0.0|Sin duplicados|     1829847|\n",
            "|     DEST_AIRPORT_ID|      int|     0|         0.0|     0|           0.0|Sin duplicados|     1829847|\n",
            "| DEST_AIRPORT_SEQ_ID|      int|     0|         0.0|     0|           0.0|Sin duplicados|     1829847|\n",
            "|            DISTANCE|   double|     0|         0.0|     0|           0.0|Sin duplicados|     1829847|\n",
            "|            DIVERTED|   double|     0|         0.0|     0|           0.0|Sin duplicados|     1829847|\n",
            "|          OP_CARRIER|   string|     0|         0.0|     0|           0.0|Sin duplicados|     1829847|\n",
            "|OP_CARRIER_AIRLIN...|      int|     0|         0.0|     0|           0.0|Sin duplicados|     1829847|\n",
            "|   OP_CARRIER_FL_NUM|      int|     0|         0.0|     0|           0.0|Sin duplicados|     1829847|\n",
            "|   OP_UNIQUE_CARRIER|   string|     0|         0.0|     0|           0.0|Sin duplicados|     1829847|\n",
            "|              ORIGIN|   string|     0|         0.0|     0|           0.0|Sin duplicados|     1829847|\n",
            "|   ORIGIN_AIRPORT_ID|      int|     0|         0.0|     0|           0.0|Sin duplicados|     1829847|\n",
            "|ORIGIN_AIRPORT_SE...|      int|     0|         0.0|     0|           0.0|Sin duplicados|     1829847|\n",
            "+--------------------+---------+------+------------+------+--------------+--------------+------------+\n",
            "only showing top 20 rows\n",
            "\n"
          ]
        }
      ],
      "source": [
        "# Validacion de calida de datos antes de tranformaciones\n",
        "data_quality_check(df_flights)"
      ]
    },
    {
      "cell_type": "code",
      "execution_count": 38,
      "id": "DBIHgw5uJbkF",
      "metadata": {
        "colab": {
          "base_uri": "https://localhost:8080/"
        },
        "id": "DBIHgw5uJbkF",
        "outputId": "e4ff5e24-2a48-4396-a47d-d7501893df2f"
      },
      "outputs": [
        {
          "name": "stdout",
          "output_type": "stream",
          "text": [
            "+--------+---------+--------+---------+---------+--------+\n",
            "|DEP_TIME|DEP_DEL15|ARR_TIME|ARR_DEL15|CANCELLED|count(1)|\n",
            "+--------+---------+--------+---------+---------+--------+\n",
            "|    NULL|     NULL|    NULL|     NULL|      1.0|  121560|\n",
            "|    1016|      0.0|    NULL|     NULL|      1.0|       4|\n",
            "|     557|      0.0|    NULL|     NULL|      1.0|       4|\n",
            "|     953|      0.0|    NULL|     NULL|      1.0|       4|\n",
            "|     909|      0.0|    NULL|     NULL|      1.0|       3|\n",
            "|     946|      1.0|    NULL|     NULL|      0.0|       3|\n",
            "|    1307|      1.0|    NULL|     NULL|      1.0|       3|\n",
            "|    1342|      0.0|    NULL|     NULL|      0.0|       3|\n",
            "|    1545|      0.0|    NULL|     NULL|      1.0|       3|\n",
            "|    2105|      1.0|    NULL|     NULL|      1.0|       3|\n",
            "|     555|      0.0|    NULL|     NULL|      1.0|       3|\n",
            "|     553|      0.0|    NULL|     NULL|      1.0|       3|\n",
            "|     640|      0.0|    NULL|     NULL|      1.0|       3|\n",
            "|     825|      0.0|    NULL|     NULL|      1.0|       3|\n",
            "|     621|      0.0|    NULL|     NULL|      1.0|       3|\n",
            "|     937|      0.0|    NULL|     NULL|      1.0|       3|\n",
            "|     558|      0.0|    NULL|     NULL|      1.0|       3|\n",
            "|    1348|      0.0|    NULL|     NULL|      1.0|       3|\n",
            "|     932|      0.0|    NULL|     NULL|      1.0|       3|\n",
            "|     839|      0.0|    NULL|     NULL|      0.0|       3|\n",
            "+--------+---------+--------+---------+---------+--------+\n",
            "only showing top 20 rows\n",
            "\n"
          ]
        }
      ],
      "source": [
        "# Se realiza un query sql para validar una muestra de datos donde DEP_DEL15 y ARR_DEL15 son nulos\n",
        "spark.sql('select DEP_TIME, DEP_DEL15, ARR_TIME, ARR_DEL15, CANCELLED, count(1) from {df_flights} where (ARR_DEL15 is null or DEP_DEL15 is null ) group by ARR_DEL15, ARR_TIME, DEP_DEL15, DEP_TIME, CANCELLED order by count(1) desc', df_flights=df_flights).show()\n",
        "\n",
        "#Estos parecen ser irrelevantes para la tarea que buscamos"
      ]
    },
    {
      "cell_type": "code",
      "execution_count": 39,
      "id": "aa96051a",
      "metadata": {
        "colab": {
          "base_uri": "https://localhost:8080/"
        },
        "id": "aa96051a",
        "outputId": "6093f644-fb7a-463d-ee84-0a0b96b8abf4"
      },
      "outputs": [
        {
          "name": "stdout",
          "output_type": "stream",
          "text": [
            "+------------+-----------+-----------------+---------------------+----------+--------+-----------------+-----------------+---------------------+------+---------------+-------------------+----+--------+---------+------------+--------+---------+---------+--------+--------+----+\n",
            "|DAY_OF_MONTH|DAY_OF_WEEK|OP_UNIQUE_CARRIER|OP_CARRIER_AIRLINE_ID|OP_CARRIER|TAIL_NUM|OP_CARRIER_FL_NUM|ORIGIN_AIRPORT_ID|ORIGIN_AIRPORT_SEQ_ID|ORIGIN|DEST_AIRPORT_ID|DEST_AIRPORT_SEQ_ID|DEST|DEP_TIME|DEP_DEL15|DEP_TIME_BLK|ARR_TIME|ARR_DEL15|CANCELLED|DIVERTED|DISTANCE|_c21|\n",
            "+------------+-----------+-----------------+---------------------+----------+--------+-----------------+-----------------+---------------------+------+---------------+-------------------+----+--------+---------+------------+--------+---------+---------+--------+--------+----+\n",
            "|           1|          3|               EV|                20366|        EV|  N48901|             4397|            13930|              1393007|   ORD|          11977|            1197705| GRB|    1003|      0.0|   1000-1059|    1117|      0.0|      0.0|     0.0|   174.0|NULL|\n",
            "|           1|          3|               EV|                20366|        EV|  N16976|             4401|            15370|              1537002|   TUL|          13930|            1393007| ORD|    1027|      0.0|   1000-1059|    1216|      0.0|      0.0|     0.0|   585.0|NULL|\n",
            "|           1|          3|               EV|                20366|        EV|  N12167|             4404|            11618|              1161802|   EWR|          15412|            1541205| TYS|    1848|      0.0|   1800-1859|    2120|      0.0|      0.0|     0.0|   631.0|NULL|\n",
            "|           1|          3|               EV|                20366|        EV|  N14902|             4405|            10781|              1078105|   BTR|          12266|            1226603| IAH|    1846|      0.0|   1800-1859|    2004|      0.0|      0.0|     0.0|   253.0|NULL|\n",
            "|           1|          3|               EV|                20366|        EV|  N606UX|             4407|            14524|              1452401|   RIC|          12266|            1226603| IAH|    1038|      0.0|   1000-1059|    1330|      0.0|      0.0|     0.0|  1157.0|NULL|\n",
            "+------------+-----------+-----------------+---------------------+----------+--------+-----------------+-----------------+---------------------+------+---------------+-------------------+----+--------+---------+------------+--------+---------+---------+--------+--------+----+\n",
            "only showing top 5 rows\n",
            "\n"
          ]
        }
      ],
      "source": [
        "# Tranformacion: Limpieza de nulos\n",
        "df_na_clean = df_flights.na.drop(subset=['ARR_DEL15','DEP_DEL15'] )\n",
        "df_na_clean.show(5)"
      ]
    },
    {
      "cell_type": "code",
      "execution_count": 40,
      "id": "gYOYLWFTHK4G",
      "metadata": {
        "id": "gYOYLWFTHK4G"
      },
      "outputs": [],
      "source": [
        "# Tranformacion: Creacion de columna on_time\n",
        "df_on_time = df_na_clean.withColumnRenamed('ARR_DEL15', 'on_time')"
      ]
    },
    {
      "cell_type": "code",
      "execution_count": 41,
      "id": "K-xslhBIHSc2",
      "metadata": {
        "colab": {
          "base_uri": "https://localhost:8080/"
        },
        "id": "K-xslhBIHSc2",
        "outputId": "490c9ef9-59d2-456e-e48d-2a1df1029e47"
      },
      "outputs": [
        {
          "name": "stdout",
          "output_type": "stream",
          "text": [
            "+--------------------+---------+----+------------+------+--------------+--------------+------------+\n",
            "|             columna|data_type|null|null_percent|blacks|blanks_percent|    duplicados|record_count|\n",
            "+--------------------+---------+----+------------+------+--------------+--------------+------------+\n",
            "|            ARR_TIME|      int|   0|         0.0|     0|           0.0|Sin duplicados|     1704588|\n",
            "|           CANCELLED|   double|   0|         0.0|     0|           0.0|Sin duplicados|     1704588|\n",
            "|        DAY_OF_MONTH|      int|   0|         0.0|     0|           0.0|Sin duplicados|     1704588|\n",
            "|         DAY_OF_WEEK|      int|   0|         0.0|     0|           0.0|Sin duplicados|     1704588|\n",
            "|           DEP_DEL15|   double|   0|         0.0|     0|           0.0|Sin duplicados|     1704588|\n",
            "|            DEP_TIME|      int|   0|         0.0|     0|           0.0|Sin duplicados|     1704588|\n",
            "|        DEP_TIME_BLK|   string|   0|         0.0|     0|           0.0|Sin duplicados|     1704588|\n",
            "|                DEST|   string|   0|         0.0|     0|           0.0|Sin duplicados|     1704588|\n",
            "|     DEST_AIRPORT_ID|      int|   0|         0.0|     0|           0.0|Sin duplicados|     1704588|\n",
            "| DEST_AIRPORT_SEQ_ID|      int|   0|         0.0|     0|           0.0|Sin duplicados|     1704588|\n",
            "|            DISTANCE|   double|   0|         0.0|     0|           0.0|Sin duplicados|     1704588|\n",
            "|            DIVERTED|   double|   0|         0.0|     0|           0.0|Sin duplicados|     1704588|\n",
            "|          OP_CARRIER|   string|   0|         0.0|     0|           0.0|Sin duplicados|     1704588|\n",
            "|OP_CARRIER_AIRLIN...|      int|   0|         0.0|     0|           0.0|Sin duplicados|     1704588|\n",
            "|   OP_CARRIER_FL_NUM|      int|   0|         0.0|     0|           0.0|Sin duplicados|     1704588|\n",
            "|   OP_UNIQUE_CARRIER|   string|   0|         0.0|     0|           0.0|Sin duplicados|     1704588|\n",
            "|              ORIGIN|   string|   0|         0.0|     0|           0.0|Sin duplicados|     1704588|\n",
            "|   ORIGIN_AIRPORT_ID|      int|   0|         0.0|     0|           0.0|Sin duplicados|     1704588|\n",
            "|ORIGIN_AIRPORT_SE...|      int|   0|         0.0|     0|           0.0|Sin duplicados|     1704588|\n",
            "|            TAIL_NUM|   string|   0|         0.0|     0|           0.0|Sin duplicados|     1704588|\n",
            "+--------------------+---------+----+------------+------+--------------+--------------+------------+\n",
            "only showing top 20 rows\n",
            "\n"
          ]
        }
      ],
      "source": [
        "# Validacion de datos sobre el df usado para calcular metricas\n",
        "data_quality_check(df_on_time)"
      ]
    },
    {
      "cell_type": "code",
      "execution_count": 42,
      "id": "Suk4qZ04HSKS",
      "metadata": {
        "colab": {
          "base_uri": "https://localhost:8080/"
        },
        "id": "Suk4qZ04HSKS",
        "outputId": "bd2829b7-4574-4552-cf80-3609c9b7d7a6"
      },
      "outputs": [
        {
          "name": "stdout",
          "output_type": "stream",
          "text": [
            "+----------+------+----+-------------+-------------------------+-----------------------+\n",
            "|OP_CARRIER|ORIGIN|DEST|total_flights|departure_delayed_flights|arrival_delayed_flights|\n",
            "+----------+------+----+-------------+-------------------------+-----------------------+\n",
            "|        WN|   HRL| AUS|           78|                      5.0|                    4.0|\n",
            "|        WN|   MCI| ATL|          191|                     16.0|                   17.0|\n",
            "|        WN|   MHT| MCO|          192|                      9.0|                   21.0|\n",
            "|        WN|   MKE| BOS|            4|                      0.0|                    0.0|\n",
            "|        MQ|   ORD| MQT|           86|                     18.0|                   20.0|\n",
            "+----------+------+----+-------------+-------------------------+-----------------------+\n",
            "only showing top 5 rows\n",
            "\n"
          ]
        }
      ],
      "source": [
        "# Tranformacion: Calculo de metricas parte 1 (total_flights,departure_delayed_flights,arrival_delayed_flights)\n",
        "df_metrics = df_on_time.groupBy('OP_CARRIER','ORIGIN','DEST').agg(\n",
        "    count('*').alias('total_flights'),\n",
        "    sum('DEP_DEL15').alias('departure_delayed_flights'),\n",
        "    sum('on_time').alias('arrival_delayed_flights')\n",
        ")\n",
        "df_metrics.show(5)"
      ]
    },
    {
      "cell_type": "code",
      "execution_count": 43,
      "id": "Cdijn5fbHbT7",
      "metadata": {
        "colab": {
          "base_uri": "https://localhost:8080/"
        },
        "id": "Cdijn5fbHbT7",
        "outputId": "d509926f-a10d-4966-9b22-c6b6a652750d"
      },
      "outputs": [
        {
          "name": "stdout",
          "output_type": "stream",
          "text": [
            "+----------+------+----+-------------+-------------------------+-----------------------+--------------------------+------------------------+\n",
            "|OP_CARRIER|ORIGIN|DEST|total_flights|departure_delayed_flights|arrival_delayed_flights|departure_delay_percentage|arrival_delay_percentage|\n",
            "+----------+------+----+-------------+-------------------------+-----------------------+--------------------------+------------------------+\n",
            "|        WN|   HRL| AUS|           78|                      5.0|                    4.0|                      6.41|                    5.13|\n",
            "|        WN|   MCI| ATL|          191|                     16.0|                   17.0|                      8.38|                     8.9|\n",
            "|        WN|   MHT| MCO|          192|                      9.0|                   21.0|                      4.69|                   10.94|\n",
            "|        WN|   MKE| BOS|            4|                      0.0|                    0.0|                       0.0|                     0.0|\n",
            "|        MQ|   ORD| MQT|           86|                     18.0|                   20.0|                     20.93|                   23.26|\n",
            "+----------+------+----+-------------+-------------------------+-----------------------+--------------------------+------------------------+\n",
            "only showing top 5 rows\n",
            "\n"
          ]
        }
      ],
      "source": [
        "# Tranformacion: Calculo de metricas parte 2 (porcentajes)\n",
        "df_metrics = df_metrics.withColumn('departure_delay_percentage', round((col('departure_delayed_flights')/col('total_flights'))*100,2)).withColumn('arrival_delay_percentage', round((col('arrival_delayed_flights')/col('total_flights'))*100,2))\n",
        "df_metrics.show(5)"
      ]
    },
    {
      "cell_type": "code",
      "execution_count": 46,
      "id": "jE1yXIeqNl-e",
      "metadata": {
        "id": "jE1yXIeqNl-e"
      },
      "outputs": [],
      "source": [
        "# Select para ordenar las columnas en un formato esperado y\n",
        "# se escribe el parquet en el output esperado particionado por 'OP_CARRIER','ORIGIN','DEST' ,\n",
        "# esperando que busqueda de los cliente sea como en un trayecto existen retrasos segun la aerolinea\n",
        "df_output = df_metrics.select('OP_CARRIER','ORIGIN','DEST','total_flights','departure_delayed_flights','departure_delay_percentage','arrival_delayed_flights','arrival_delay_percentage')\n",
        "df_output.write.mode(\"overwrite\").partitionBy('OP_CARRIER','ORIGIN','DEST').parquet(output_path)"
      ]
    }
  ],
  "metadata": {
    "colab": {
      "provenance": []
    },
    "kernelspec": {
      "display_name": "base",
      "language": "python",
      "name": "python3"
    },
    "language_info": {
      "codemirror_mode": {
        "name": "ipython",
        "version": 3
      },
      "file_extension": ".py",
      "mimetype": "text/x-python",
      "name": "python",
      "nbconvert_exporter": "python",
      "pygments_lexer": "ipython3",
      "version": "3.13.5"
    }
  },
  "nbformat": 4,
  "nbformat_minor": 5
}
